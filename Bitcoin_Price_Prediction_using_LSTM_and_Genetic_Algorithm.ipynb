{
  "nbformat": 4,
  "nbformat_minor": 0,
  "metadata": {
    "colab": {
      "provenance": [],
      "gpuType": "V28"
    },
    "kernelspec": {
      "name": "python3",
      "display_name": "Python 3"
    },
    "language_info": {
      "name": "python"
    },
    "accelerator": "TPU"
  },
  "cells": [
    {
      "cell_type": "markdown",
      "source": [
        "Importacón de librerías necesarías para el proyecto"
      ],
      "metadata": {
        "id": "-io7_trRbqG8"
      }
    },
    {
      "cell_type": "code",
      "source": [
        "import pandas as pd\n",
        "import numpy as np\n",
        "import torch\n",
        "import torch.nn as nn\n",
        "from sklearn.preprocessing import MinMaxScaler\n",
        "from sklearn.model_selection import train_test_split\n",
        "import random\n",
        "import matplotlib.pyplot as plt"
      ],
      "metadata": {
        "id": "FcP7Vat8FYBZ"
      },
      "execution_count": null,
      "outputs": []
    },
    {
      "cell_type": "markdown",
      "source": [
        "Dataset"
      ],
      "metadata": {
        "id": "gvA1g_dObw70"
      }
    },
    {
      "cell_type": "code",
      "source": [
        "df = pd.read_csv(\"/content/btcusd_1-min_data.csv\")"
      ],
      "metadata": {
        "id": "jyJVmGhEU916"
      },
      "execution_count": null,
      "outputs": []
    },
    {
      "cell_type": "code",
      "source": [
        "# Preprocesamiento de fecha y cierre\n",
        "df['Date'] = pd.to_datetime(df['Timestamp'], unit='s')\n",
        "df = df.set_index('Date')[['Close']].copy()\n",
        "df.dropna(inplace=True)"
      ],
      "metadata": {
        "id": "dX_BUf5UVANM"
      },
      "execution_count": null,
      "outputs": []
    },
    {
      "cell_type": "code",
      "source": [
        "# Escalado\n",
        "scaler = MinMaxScaler()\n",
        "scaled_close = scaler.fit_transform(df[['Close']].values).flatten()"
      ],
      "metadata": {
        "id": "Lgb11fpfVCfZ"
      },
      "execution_count": null,
      "outputs": []
    },
    {
      "cell_type": "code",
      "source": [
        "# Función para crear secuencias\n",
        "def create_sequences(data, seq_len):\n",
        "    X, y = [], []\n",
        "    for i in range(len(data) - seq_len):\n",
        "        X.append(data[i:i+seq_len])\n",
        "        y.append(data[i+seq_len])\n",
        "    return np.array(X), np.array(y)"
      ],
      "metadata": {
        "id": "-vtGjl3pVFez"
      },
      "execution_count": null,
      "outputs": []
    },
    {
      "cell_type": "code",
      "source": [
        "# Modelo LSTM\n",
        "class BitcoinLSTM(nn.Module):\n",
        "    def __init__(self, input_size, hidden_size, num_layers, dropout):\n",
        "        super(BitcoinLSTM, self).__init__()\n",
        "        self.lstm = nn.LSTM(input_size, hidden_size, num_layers,\n",
        "                            dropout=dropout, batch_first=True)\n",
        "        self.fc = nn.Linear(hidden_size, 1)\n",
        "\n",
        "    def forward(self, x):\n",
        "        out, _ = self.lstm(x)\n",
        "        return self.fc(out[:, -1, :])"
      ],
      "metadata": {
        "id": "UGEDQ8OsFcoz"
      },
      "execution_count": null,
      "outputs": []
    },
    {
      "cell_type": "code",
      "source": [
        "# Entrenamiento\n",
        "def train_model(model, X_train, y_train, X_val, y_val, num_epochs, lr):\n",
        "    criterion = nn.MSELoss()\n",
        "    optimizer = torch.optim.Adam(model.parameters(), lr=lr)\n",
        "\n",
        "    for epoch in range(num_epochs):\n",
        "        model.train()\n",
        "        optimizer.zero_grad()\n",
        "        output = model(X_train)\n",
        "        loss = criterion(output, y_train)\n",
        "        loss.backward()\n",
        "        optimizer.step()\n",
        "\n",
        "    model.eval()\n",
        "    with torch.no_grad():\n",
        "        preds = model(X_val)\n",
        "        val_loss = criterion(preds, y_val).item()\n",
        "    return val_loss"
      ],
      "metadata": {
        "id": "kogmQkkJFgCr"
      },
      "execution_count": null,
      "outputs": []
    },
    {
      "cell_type": "code",
      "source": [
        "import gc\n",
        "import random\n",
        "import torch\n",
        "from sklearn.model_selection import train_test_split"
      ],
      "metadata": {
        "id": "BeL58QX-WBUY"
      },
      "execution_count": null,
      "outputs": []
    },
    {
      "cell_type": "markdown",
      "source": [
        "1. Objetivo:\n",
        "- Optimiza hiperparámetros para la LSTM usando un algoritmo genético. Busca la mejor combinación de:\n",
        "\n",
        "        seq_len (longitud de secuencia)\n",
        "\n",
        "        hidden_size (neuronas en capa oculta)\n",
        "\n",
        "        num_layers (capas LSTM)\n",
        "\n",
        "        dropout (regularización)\n",
        "\n",
        "        lr (tasa de aprendizaje)\n",
        "\n",
        "2. Flujo Principal:\n",
        "\n",
        "        Población Inicial: Genera pop_size individuos con valores aleatorios dentro de rangos definidos.\n",
        "\n",
        "        Evaluación: Para cada individuo:\n",
        "\n",
        "        Crea secuencias con create_sequences()\n",
        "\n",
        "        Entrena el modelo LSTM brevemente (2 épocas)\n",
        "\n",
        "        Evalúa el rendimiento usando pérdida en validación (MSE)\n",
        "\n",
        "        Selección: Conserva los mejores individuos (menor pérdida).\n",
        "\n",
        "        Reproducción: Genera nueva población combinando (cruce) y modificando (mutación) los mejores.\n",
        "\n",
        "3. Detalles Clave:\n",
        "\n",
        "          Restricción RAM: Usa max_samples para limitar datos.\n",
        "\n",
        "          Seguridad: Si hay menos de 2 individuos válidos, aborta.\n",
        "\n",
        "          Memoria: Libera memoria explícitamente (importante para GPU).\n",
        "\n",
        "\n",
        "4. Parámetros por Defecto:\n",
        "\n",
        "          Población pequeña (pop_size=4)\n",
        "\n",
        "          Pocas generaciones (generations=2)\n",
        "\n",
        "          Muestra máxima de 100k puntos (max_samples)\n",
        "\n",
        "5. Salida:\n",
        "          Devuelve el mejor individuo (hiperparámetros) encontrado."
      ],
      "metadata": {
        "id": "b9yeDu_4cf9F"
      }
    },
    {
      "cell_type": "code",
      "source": [
        "def genetic_algorithm(y, pop_size=4, generations=2, max_samples=100_000):\n",
        "    population = []\n",
        "\n",
        "    # Crear población inicial\n",
        "    for _ in range(pop_size):\n",
        "        individual = {\n",
        "            'seq_len': random.randint(10, 50),\n",
        "            'hidden_size': random.choice([16, 32, 64, 128]),\n",
        "            'num_layers': random.choice([1, 2, 3]),\n",
        "            'dropout': random.uniform(0.0, 0.5),\n",
        "            'lr': random.uniform(0.0005, 0.01)\n",
        "        }\n",
        "        if individual['num_layers'] == 1:\n",
        "            individual['dropout'] = 0.0\n",
        "        population.append(individual)\n",
        "\n",
        "    for gen in range(generations):\n",
        "        fitness_scores = []\n",
        "\n",
        "        for ind in population:\n",
        "            seq_len = ind['seq_len']\n",
        "\n",
        "            # Limitar tamaño del dataset para no saturar la RAM\n",
        "            y_sample = y[:max_samples]\n",
        "\n",
        "            # Crear secuencias\n",
        "            X, y_seq = create_sequences(y_sample, seq_len)\n",
        "            if len(X) < 500:\n",
        "                continue\n",
        "\n",
        "            X_train, X_val, y_train, y_val = train_test_split(X, y_seq, test_size=0.2, shuffle=False)\n",
        "\n",
        "            # Convertir a tensores\n",
        "            X_train = torch.tensor(X_train, dtype=torch.float32).unsqueeze(-1)\n",
        "            y_train = torch.tensor(y_train, dtype=torch.float32).view(-1, 1)\n",
        "            X_val = torch.tensor(X_val, dtype=torch.float32).unsqueeze(-1)\n",
        "            y_val = torch.tensor(y_val, dtype=torch.float32).view(-1, 1)\n",
        "\n",
        "            # Crear y entrenar modelo\n",
        "            model = BitcoinLSTM(1, ind['hidden_size'], ind['num_layers'], ind['dropout'])\n",
        "            loss = train_model(model, X_train, y_train, X_val, y_val, num_epochs=2, lr=ind['lr'])\n",
        "            fitness_scores.append((loss, ind))\n",
        "\n",
        "            # Liberar memoria\n",
        "            del model, X_train, y_train, X_val, y_val\n",
        "            torch.cuda.empty_cache()\n",
        "            gc.collect()\n",
        "\n",
        "        if len(fitness_scores) < 2:\n",
        "            print(\"⚠️ Muy pocos individuos válidos, intenta aumentar `pop_size` o mejorar `create_sequences`.\")\n",
        "            break\n",
        "\n",
        "        # Seleccionar los mejores\n",
        "        fitness_scores.sort(key=lambda x: x[0])\n",
        "        best = fitness_scores[:max(2, pop_size // 2)]\n",
        "\n",
        "        new_population = [ind for _, ind in best]\n",
        "\n",
        "        # Cruce y mutación\n",
        "        while len(new_population) < pop_size:\n",
        "            if len(new_population) >= 2:\n",
        "                p1, p2 = random.sample(new_population, 2)\n",
        "            else:\n",
        "                p1 = p2 = new_population[0]\n",
        "\n",
        "            child = {\n",
        "                'seq_len': random.choice([p1['seq_len'], p2['seq_len']]),\n",
        "                'hidden_size': random.choice([p1['hidden_size'], p2['hidden_size']]),\n",
        "                'num_layers': random.choice([p1['num_layers'], p2['num_layers']]),\n",
        "                'dropout': max(0.0, min(0.5, (p1['dropout'] + p2['dropout']) / 2 + random.uniform(-0.05, 0.05))),\n",
        "                'lr': max(0.0001, min(0.01, (p1['lr'] + p2['lr']) / 2 + random.uniform(-0.001, 0.001)))\n",
        "            }\n",
        "\n",
        "            if child['num_layers'] == 1:\n",
        "                child['dropout'] = 0.0\n",
        "\n",
        "            new_population.append(child)\n",
        "\n",
        "        population = new_population\n",
        "        print(f\"🧬 Gen {gen+1}/{generations}, Mejor pérdida: {best[0][0]:.6f}\")\n",
        "\n",
        "    return fitness_scores[0][1]"
      ],
      "metadata": {
        "id": "o2t_VBePVzgM"
      },
      "execution_count": null,
      "outputs": []
    },
    {
      "cell_type": "code",
      "source": [
        "best_hparams = genetic_algorithm(y=scaled_close, pop_size=4, generations=2)\n",
        "print(\"📌 Mejores hiperparámetros encontrados:\", best_hparams)"
      ],
      "metadata": {
        "colab": {
          "base_uri": "https://localhost:8080/"
        },
        "id": "4uGODB1cQKu-",
        "outputId": "49e8db2e-e942-4f93-9b1b-8de9486f8626"
      },
      "execution_count": null,
      "outputs": [
        {
          "output_type": "stream",
          "name": "stdout",
          "text": [
            "🧬 Gen 1/2, Mejor pérdida: 0.000099\n",
            "🧬 Gen 2/2, Mejor pérdida: 0.000041\n",
            "📌 Mejores hiperparámetros encontrados: {'seq_len': 20, 'hidden_size': 32, 'num_layers': 3, 'dropout': 0.2653036041621139, 'lr': 0.0015289256279720606}\n"
          ]
        }
      ]
    },
    {
      "cell_type": "code",
      "source": [
        "# best_hparams = genetic_algorithm(y=scaled_close, pop_size=4, generations=2)\n",
        "# print(\"🧬 Mejores hiperparámetros encontrados:\", best_hparams)"
      ],
      "metadata": {
        "id": "EAPpVKCRFp8b"
      },
      "execution_count": null,
      "outputs": []
    },
    {
      "cell_type": "code",
      "source": [
        "# Entrenar modelo final con los mejores parametros encontrados por el algoritmo genetico\n",
        "# seq_len = best_hparams['seq_len']\n",
        "seq_len = 20\n",
        "X, y_seq = create_sequences(scaled_close, seq_len)\n",
        "X_train, X_val, y_train, y_val = train_test_split(X, y_seq, test_size=0.2, shuffle=False)\n",
        "\n",
        "X_train = torch.tensor(X_train, dtype=torch.float32).unsqueeze(-1)\n",
        "y_train = torch.tensor(y_train, dtype=torch.float32).view(-1, 1)\n",
        "X_val = torch.tensor(X_val, dtype=torch.float32).unsqueeze(-1)\n",
        "y_val = torch.tensor(y_val, dtype=torch.float32).view(-1, 1)\n",
        "\n",
        "model = BitcoinLSTM(\n",
        "    input_size=1,\n",
        "    # hidden_size=best_hparams['hidden_size'],\n",
        "    hidden_size=32,\n",
        "    # num_layers=best_hparams['num_layers'],\n",
        "    num_layers=3,\n",
        "    # dropout=best_hparams['dropout']\n",
        "    dropout=0.2653036041621139,\n",
        ")\n",
        "\n",
        "train_model(model, X_train, y_train, X_val, y_val, num_epochs=20,\n",
        "            # lr=best_hparams['lr']\n",
        "            lr=0.0015289256279720606)"
      ],
      "metadata": {
        "id": "6tprGTmjGQsD",
        "colab": {
          "base_uri": "https://localhost:8080/"
        },
        "outputId": "60828621-b847-4f1a-96b7-dcf46d033767"
      },
      "execution_count": null,
      "outputs": [
        {
          "output_type": "execute_result",
          "data": {
            "text/plain": [
              "0.02983376570045948"
            ]
          },
          "metadata": {},
          "execution_count": 4
        }
      ]
    },
    {
      "cell_type": "markdown",
      "source": [
        "![image.png](data:image/png;base64,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)"
      ],
      "metadata": {
        "id": "kzmvpoMDWpCW"
      }
    }
  ]
}